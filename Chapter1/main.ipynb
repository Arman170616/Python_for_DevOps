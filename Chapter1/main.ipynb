{
 "cells": [
  {
   "cell_type": "markdown",
   "metadata": {},
   "source": [
    "Chapter 1. Python Essentials for DevOps"
   ]
  },
  {
   "cell_type": "markdown",
   "metadata": {},
   "source": [
    "DevOps, the combination of software development with information\n",
    "technology operations, has been a hot field during the last decade.\n",
    "Traditional boundaries among software development, deployment,\n",
    "maintenance, and quality assurance have been broken, enabling more\n",
    "integrated teams. Python has been a popular language both in\n",
    "traditional IT operations and in DevOps due to its combination of\n",
    "flexibility, power, and ease of use."
   ]
  },
  {
   "cell_type": "code",
   "execution_count": 2,
   "metadata": {},
   "outputs": [
    {
     "name": "stdout",
     "output_type": "stream",
     "text": [
      "spot\n",
      "t-spot\n"
     ]
    }
   ],
   "source": [
    "#Variables : A variable is a name that points to some value. Variables in Python can be assigned to new values:\n",
    "dog_name = \"spot\"\n",
    "print(dog_name)\n",
    "dog_name = 't-' + dog_name\n",
    "print(dog_name)"
   ]
  }
 ],
 "metadata": {
  "kernelspec": {
   "display_name": "Python 3.9.7 ('base')",
   "language": "python",
   "name": "python3"
  },
  "language_info": {
   "codemirror_mode": {
    "name": "ipython",
    "version": 3
   },
   "file_extension": ".py",
   "mimetype": "text/x-python",
   "name": "python",
   "nbconvert_exporter": "python",
   "pygments_lexer": "ipython3",
   "version": "3.9.7"
  },
  "orig_nbformat": 4,
  "vscode": {
   "interpreter": {
    "hash": "7cb26c2820345165c8f005dcc2089ef545de0103121273964bbf9eaa4deac97d"
   }
  }
 },
 "nbformat": 4,
 "nbformat_minor": 2
}
