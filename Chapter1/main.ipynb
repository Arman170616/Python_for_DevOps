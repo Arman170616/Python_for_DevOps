{
 "cells": [
  {
   "cell_type": "markdown",
   "metadata": {},
   "source": [
    "Chapter 1. Python Essentials for DevOps"
   ]
  },
  {
   "cell_type": "markdown",
   "metadata": {},
   "source": [
    "DevOps, the combination of software development with information\n",
    "technology operations, has been a hot field during the last decade.\n",
    "Traditional boundaries among software development, deployment,\n",
    "maintenance, and quality assurance have been broken, enabling more\n",
    "integrated teams. Python has been a popular language both in\n",
    "traditional IT operations and in DevOps due to its combination of\n",
    "flexibility, power, and ease of use."
   ]
  },
  {
   "cell_type": "code",
   "execution_count": 4,
   "metadata": {},
   "outputs": [
    {
     "name": "stdout",
     "output_type": "stream",
     "text": [
      "spot\n",
      "t-spot\n",
      "10000000\n",
      "{}\n"
     ]
    }
   ],
   "source": [
    "#Variables : A variable is a name that points to some value. Variables in Python can be assigned to new values:\n",
    "dog_name = \"spot\"\n",
    "print(dog_name)\n",
    "dog_name = 't-' + dog_name\n",
    "print(dog_name)\n",
    "#Python variables use dynamic typing. In practice, this means that they can be reassigned to values of different types or classes:\n",
    "\n",
    "big = 'large'\n",
    "big = 1000*10000\n",
    "print(big)\n",
    "big = {}\n",
    "print(big)"
   ]
  },
  {
   "cell_type": "code",
   "execution_count": 9,
   "metadata": {},
   "outputs": [
    {
     "name": "stdout",
     "output_type": "stream",
     "text": [
      "2.5\n",
      "2\n",
      "27\n",
      "1\n"
     ]
    }
   ],
   "source": [
    "#Basic Math  : Basic math operations such as addition, subtraction, multiplication, and division can all be performed using built-in math operators,\n",
    "#Note that a // symbol is for integer division. The symbol ** creates an exponent, and % is the modulo operator\n",
    "a = 5/2\n",
    "print(a)\n",
    "a = 5//2\n",
    "print(a)\n",
    "a = 3**3\n",
    "print(a)\n",
    "a = 5%2\n",
    "print(a)\n"
   ]
  },
  {
   "cell_type": "code",
   "execution_count": 10,
   "metadata": {},
   "outputs": [
    {
     "data": {
      "text/plain": [
       "'\\nComments: \\n\\nComments are text ignored by the Python interpreter. They are useful\\nfor documentation of code and can be mined by some services to\\nprovide standalone documentation. Single-line comments are\\ndelineated by prepending with #. A single-line comment can start at the\\nbeginning of a line, or at any point thereafter. Everything after the # is\\npart of the comment until a new line break occurs:\\n'"
      ]
     },
     "execution_count": 10,
     "metadata": {},
     "output_type": "execute_result"
    }
   ],
   "source": [
    "'''\n",
    "Comments: \n",
    "\n",
    "Comments are text ignored by the Python interpreter. They are useful\n",
    "for documentation of code and can be mined by some services to\n",
    "provide standalone documentation. Single-line comments are\n",
    "delineated by prepending with #. A single-line comment can start at the\n",
    "beginning of a line, or at any point thereafter. Everything after the # is\n",
    "part of the comment until a new line break occurs:\n",
    "'''\n",
    "# That's the example of Comment :')"
   ]
  },
  {
   "cell_type": "code",
   "execution_count": null,
   "metadata": {},
   "outputs": [],
   "source": [
    "#Built-in Functions : Functions are statements grouped as a unit. You invoke a function by typing the function name, followed by parentheses. If the function takes arguments, the arguments appear within the parentheses. Python has many built-in functions.\n",
    "'''\n",
    "Print\n",
    "The print function produces output that a user of a program can view.\n",
    "It is less relevant in interactive environments but is a fundamental tool\n",
    "when writing Python scripts.\n",
    "print can be used to see the value of a variable or to give feedback as\n",
    "to the state of a program. print generally outputs the standard output\n",
    "stream and is visible as program output in a shell.\n",
    "\n",
    "'''\n"
   ]
  },
  {
   "cell_type": "code",
   "execution_count": 14,
   "metadata": {},
   "outputs": [
    {
     "name": "stdout",
     "output_type": "stream",
     "text": [
      "range(0, 10)\n",
      "[5, 8]\n"
     ]
    }
   ],
   "source": [
    "#Range: \n",
    "''' \n",
    "Though range is a built-in function, it is technically not a function at\n",
    "all. It is a type representing a sequence of numbers. When calling the\n",
    "range() constructor, an object representing a sequence of numbers is\n",
    "returned. Range objects count through a sequence of numbers. The\n",
    "range function takes up to three integer arguments. If only one\n",
    "argument appears, then the sequence is represented by the numbers\n",
    "from zero up to, but not including, that number. If a second argument\n",
    "appears, it represents the starting point, rather than the default of\n",
    "starting from 0. The third argument can be used to specify the step\n",
    "distance, and it defaults to 1.\n",
    "'''\n",
    "\n",
    "a = range(10)\n",
    "print(a)\n",
    "\n",
    "a = list(range(10))\n",
    "a = list(range(5,10))\n",
    "a = list(range(5,10, 3))\n",
    "print(a)"
   ]
  },
  {
   "cell_type": "code",
   "execution_count": 1,
   "metadata": {},
   "outputs": [
    {
     "name": "stdout",
     "output_type": "stream",
     "text": [
      "0\n",
      "1\n",
      "2\n",
      "4\n",
      "5\n"
     ]
    }
   ],
   "source": [
    "#CONTINUE: The continue statement skips a step in a loop, jumping to the next item in the sequence\n",
    "\n",
    "\n",
    "for i in range(6):\n",
    "    if i == 3:\n",
    "        continue\n",
    "    print(i)\n"
   ]
  },
  {
   "cell_type": "code",
   "execution_count": 6,
   "metadata": {},
   "outputs": [
    {
     "name": "stdout",
     "output_type": "stream",
     "text": [
      "The count is 0\n",
      "The count is 1\n",
      "The count is 2\n",
      "The count is 0\n",
      "The count is 1\n",
      "The count is 2\n",
      "The count is 3\n",
      "The count is 4\n",
      "The count is 5\n",
      "The count is 6\n",
      "The count is 7\n",
      "The count is 8\n",
      "The count is 9\n",
      "The count is 10\n",
      "The count is 11\n",
      "The count is 12\n",
      "The count is 13\n",
      "The count is 14\n",
      "The count is 15\n",
      "The count is 16\n"
     ]
    }
   ],
   "source": [
    "# while Loops: while loops repeat a block as long as a condition evaluates to True\n",
    "\n",
    "count = 0\n",
    "while count < 3:\n",
    "    print(f\"The count is {count}\")\n",
    "    count += 1\n",
    "\n",
    "'''\n",
    "It is essential to define a way for your loop to end. Otherwise, you will\n",
    "be stuck in the loop until your program crashes. One way to handle this\n",
    "is to define your conditional statement such that it eventually evaluates\n",
    "to False. An alternative pattern uses the break statement to exit a loop\n",
    "using a nested conditional\n",
    "\n",
    "'''    \n",
    "\n",
    "count = 0\n",
    "while True:\n",
    "    print(f\"The count is {count}\")\n",
    "    if count > 5:\n",
    "        break\n",
    "\n",
    "    count +=1"
   ]
  },
  {
   "cell_type": "code",
   "execution_count": 7,
   "metadata": {},
   "outputs": [
    {
     "name": "stdout",
     "output_type": "stream",
     "text": [
      "gumby\n",
      "playdo\n",
      "plato\n",
      "we tried to pop too many thinkers\n",
      "pop from empty list\n"
     ]
    }
   ],
   "source": [
    "''' \n",
    "Handling Exceptions:\n",
    "Exceptions are a type of error causing your program to crash if not\n",
    "handled (caught). Catching them with a try-except block allows the\n",
    "program to continue. These blocks are created by indenting the block\n",
    "in which the exception might be raised, putting a try statement before\n",
    "it and an except statement after it, followed by a code block that\n",
    "should run when the error occurs:\n",
    "'''\n",
    "\n",
    "thinkers = ['plato', 'playdo', 'gumby']\n",
    "\n",
    "while True:\n",
    "    try:\n",
    "        thinker = thinkers.pop()\n",
    "        print(thinker)\n",
    "    except IndexError as e:\n",
    "        print(\"we tried to pop too many thinkers\") \n",
    "        print(e)\n",
    "        break   "
   ]
  }
 ],
 "metadata": {
  "kernelspec": {
   "display_name": "Python 3.9.7 ('base')",
   "language": "python",
   "name": "python3"
  },
  "language_info": {
   "codemirror_mode": {
    "name": "ipython",
    "version": 3
   },
   "file_extension": ".py",
   "mimetype": "text/x-python",
   "name": "python",
   "nbconvert_exporter": "python",
   "pygments_lexer": "ipython3",
   "version": "3.9.7"
  },
  "orig_nbformat": 4,
  "vscode": {
   "interpreter": {
    "hash": "7cb26c2820345165c8f005dcc2089ef545de0103121273964bbf9eaa4deac97d"
   }
  }
 },
 "nbformat": 4,
 "nbformat_minor": 2
}
